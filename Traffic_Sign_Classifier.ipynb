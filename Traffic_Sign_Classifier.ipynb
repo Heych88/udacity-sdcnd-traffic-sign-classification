{
 "cells": [
  {
   "cell_type": "markdown",
   "metadata": {},
   "source": [
    "# Self-Driving Car Engineer Nanodegree\n",
    "\n",
    "## Deep Learning\n",
    "\n",
    "## Project: Build a Traffic Sign Recognition Classifier\n",
    "\n",
    "In this notebook, a template is provided for you to implement your functionality in stages, which is required to successfully complete this project. If additional code is required that cannot be included in the notebook, be sure that the Python code is successfully imported and included in your submission if necessary. \n",
    "\n",
    "> **Note**: Once you have completed all of the code implementations, you need to finalize your work by exporting the iPython Notebook as an HTML document. Before exporting the notebook to html, all of the code cells need to have been run so that reviewers can see the final implementation and output. You can then export the notebook by using the menu above and navigating to  \\n\",\n",
    "    \"**File -> Download as -> HTML (.html)**. Include the finished document along with this notebook as your submission. \n",
    "\n",
    "In addition to implementing code, there is a writeup to complete. The writeup should be completed in a separate file, which can be either a markdown file or a pdf document. There is a [write up template](https://github.com/udacity/CarND-Traffic-Sign-Classifier-Project/blob/master/writeup_template.md) that can be used to guide the writing process. Completing the code template and writeup template will cover all of the [rubric points](https://review.udacity.com/#!/rubrics/481/view) for this project.\n",
    "\n",
    "The [rubric](https://review.udacity.com/#!/rubrics/481/view) contains \"Stand Out Suggestions\" for enhancing the project beyond the minimum requirements. The stand out suggestions are optional. If you decide to pursue the \"stand out suggestions\", you can include the code in this Ipython notebook and also discuss the results in the writeup file.\n",
    "\n",
    "\n",
    ">**Note:** Code and Markdown cells can be executed using the **Shift + Enter** keyboard shortcut. In addition, Markdown cells can be edited by typically double-clicking the cell to enter edit mode."
   ]
  },
  {
   "cell_type": "markdown",
   "metadata": {},
   "source": [
    "---\n",
    "## Step 0: Load The Data"
   ]
  },
  {
   "cell_type": "code",
   "execution_count": 1,
   "metadata": {
    "collapsed": false
   },
   "outputs": [],
   "source": [
    "# Load pickled data\n",
    "import pickle\n",
    "\n",
    "# TODO: Fill this in based on where you saved the training and testing data\n",
    "\n",
    "training_file = \"train.p\"\n",
    "validation_file= \"valid.p\"\n",
    "testing_file = \"test.p\"\n",
    "\n",
    "with open(training_file, mode='rb') as f:\n",
    "    train = pickle.load(f)\n",
    "with open(validation_file, mode='rb') as f:\n",
    "    valid = pickle.load(f)\n",
    "with open(testing_file, mode='rb') as f:\n",
    "    test = pickle.load(f)\n",
    "    \n",
    "X_train, y_train = train['features'], train['labels']\n",
    "X_valid, y_valid = valid['features'], valid['labels']\n",
    "X_test, y_test = test['features'], test['labels']"
   ]
  },
  {
   "cell_type": "markdown",
   "metadata": {},
   "source": [
    "---\n",
    "\n",
    "## Step 1: Dataset Summary & Exploration\n",
    "\n",
    "The pickled data is a dictionary with 4 key/value pairs:\n",
    "\n",
    "- `'features'` is a 4D array containing raw pixel data of the traffic sign images, (num examples, width, height, channels).\n",
    "- `'labels'` is a 1D array containing the label/class id of the traffic sign. The file `signnames.csv` contains id -> name mappings for each id.\n",
    "- `'sizes'` is a list containing tuples, (width, height) representing the the original width and height the image.\n",
    "- `'coords'` is a list containing tuples, (x1, y1, x2, y2) representing coordinates of a bounding box around the sign in the image. **THESE COORDINATES ASSUME THE ORIGINAL IMAGE. THE PICKLED DATA CONTAINS RESIZED VERSIONS (32 by 32) OF THESE IMAGES**\n",
    "\n",
    "Complete the basic data summary below. Use python, numpy and/or pandas methods to calculate the data summary rather than hard coding the results. For example, the [pandas shape method](http://pandas.pydata.org/pandas-docs/stable/generated/pandas.DataFrame.shape.html) might be useful for calculating some of the summary results. "
   ]
  },
  {
   "cell_type": "markdown",
   "metadata": {},
   "source": [
    "### Provide a Basic Summary of the Data Set Using Python, Numpy and/or Pandas"
   ]
  },
  {
   "cell_type": "code",
   "execution_count": 2,
   "metadata": {
    "collapsed": false
   },
   "outputs": [
    {
     "name": "stdout",
     "output_type": "stream",
     "text": [
      "Number of training examples = 34799\n",
      "Number of testing examples = 12630\n",
      "Image data shape = 32\n",
      "Image channels per image = 3\n",
      "Number of classes = 43\n"
     ]
    }
   ],
   "source": [
    "### Replace each question mark with the appropriate value. \n",
    "### Use python, pandas or numpy methods rather than hard coding the results\n",
    "import numpy as np\n",
    "\n",
    "# TODO: Number of training examples\n",
    "n_train = np.shape(X_train)[0]\n",
    "\n",
    "# TODO: Number of testing examples.\n",
    "n_test = np.shape(X_test)[0]\n",
    "n_valid = np.shape(X_valid)[0]\n",
    "\n",
    "# TODO: What's the shape of an traffic sign image?\n",
    "image_shape = np.shape(X_train)[1]\n",
    "image_channels = np.shape(X_train)[3]\n",
    "\n",
    "# TODO: How many unique classes/labels there are in the dataset.\n",
    "n_classes = np.max(y_train)+1\n",
    "\n",
    "print(\"Number of training examples =\", n_train)\n",
    "print(\"Number of testing examples =\", n_test)\n",
    "print(\"Image data shape =\", image_shape)\n",
    "print(\"Image channels per image =\", image_channels)\n",
    "print(\"Number of classes =\", n_classes)"
   ]
  },
  {
   "cell_type": "markdown",
   "metadata": {},
   "source": [
    "### Include an exploratory visualization of the dataset"
   ]
  },
  {
   "cell_type": "markdown",
   "metadata": {},
   "source": [
    "Visualize the German Traffic Signs Dataset using the pickled file(s). This is open ended, suggestions include: plotting traffic sign images, plotting the count of each sign, etc.\n",
    "\n",
    "The [Matplotlib](http://matplotlib.org/) [examples](http://matplotlib.org/examples/index.html) and [gallery](http://matplotlib.org/gallery.html) pages are a great resource for doing visualizations in Python.\n",
    "\n",
    "**NOTE:** It's recommended you start with something simple first. If you wish to do more, come back to it after you've completed the rest of the sections."
   ]
  },
  {
   "cell_type": "code",
   "execution_count": 3,
   "metadata": {
    "collapsed": false
   },
   "outputs": [
    {
     "name": "stdout",
     "output_type": "stream",
     "text": [
      "dict_values([180, 1980, 2010, 1260, 1770, 1650, 360, 1290, 1260, 1320, 1800, 1170, 1890, 1920, 690, 540, 360, 990, 1080, 180, 300, 270, 330, 450, 240, 1350, 540, 210, 480, 240, 390, 690, 210, 599, 360, 1080, 330, 180, 1860, 270, 300, 210, 210])\n"
     ]
    },
    {
     "data": {
      "image/png": "[encoded data removed]",
      "text/plain": [
       "<matplotlib.figure.Figure at 0x1bb3e01a6d8>"
      ]
     },
     "metadata": {},
     "output_type": "display_data"
    },
    {
     "data": {
      "image/png": "[encoded data removed]",
      "text/plain": [
       "<matplotlib.figure.Figure at 0x1bb3e224f98>"
      ]
     },
     "metadata": {},
     "output_type": "display_data"
    }
   ],
   "source": [
    "### Data exploration visualization code goes here.\n",
    "### Feel free to use as many code cells as needed.\n",
    "import matplotlib.pyplot as plt\n",
    "import collections\n",
    "# Visualizations will be shown in the notebook.\n",
    "%matplotlib inline\n",
    "\n",
    "# count how many occurences of each sign in the training data and display in a histogram\n",
    "count = collections.Counter(y_train)\n",
    "plt.figure('Histogram')\n",
    "plt.bar(range(len(count)), count.values(), align='center')\n",
    "plt.xticks(range(len(count)), count.keys(), rotation=90)\n",
    "\n",
    "# show the least represented sign\n",
    "print(count.values())\n",
    "\n",
    "plt.figure('signs')\n",
    "# display an example image of 20 random sign types\n",
    "for i in range(1,21):\n",
    "    num = np.random.randint(0, n_train)\n",
    "    plt.subplot(4, 5, i)\n",
    "    plt.title(\"Class {}\".format(y_train[num]))\n",
    "    plt.axis('off')\n",
    "    img = X_train[num]\n",
    "    plt.imshow(img)"
   ]
  },
  {
   "cell_type": "markdown",
   "metadata": {},
   "source": [
    "----\n",
    "\n",
    "## Step 2: Design and Test a Model Architecture\n",
    "\n",
    "Design and implement a deep learning model that learns to recognize traffic signs. Train and test your model on the [German Traffic Sign Dataset](http://benchmark.ini.rub.de/?section=gtsrb&subsection=dataset).\n",
    "\n",
    "There are various aspects to consider when thinking about this problem:\n",
    "\n",
    "- Neural network architecture\n",
    "- Play around preprocessing techniques (normalization, rgb to grayscale, etc)\n",
    "- Number of examples per label (some have more than others).\n",
    "- Generate fake data.\n",
    "\n",
    "Here is an example of a [published baseline model on this problem](http://yann.lecun.com/exdb/publis/pdf/sermanet-ijcnn-11.pdf). It's not required to be familiar with the approach used in the paper but, it's good practice to try to read papers like these.\n",
    "\n",
    "**NOTE:** The LeNet-5 implementation shown in the [classroom](https://classroom.udacity.com/nanodegrees/nd013/parts/fbf77062-5703-404e-b60c-95b78b2f3f9e/modules/6df7ae49-c61c-4bb2-a23e-6527e69209ec/lessons/601ae704-1035-4287-8b11-e2c2716217ad/concepts/d4aca031-508f-4e0b-b493-e7b706120f81) at the end of the CNN lesson is a solid starting point. You'll have to change the number of classes and possibly the preprocessing, but aside from that it's plug and play!"
   ]
  },
  {
   "cell_type": "markdown",
   "metadata": {},
   "source": [
    "### Pre-process the Data Set (normalization, grayscale, etc.)"
   ]
  },
  {
   "cell_type": "markdown",
   "metadata": {},
   "source": [
    "Use the code cell (or multiple code cells, if necessary) to implement the first step of your project."
   ]
  },
  {
   "cell_type": "markdown",
   "metadata": {},
   "source": [
    "#### Add extra data\n",
    "\n",
    "Add translation and AffineTransform of any low count data less than 600"
   ]
  },
  {
   "cell_type": "code",
   "execution_count": 4,
   "metadata": {
    "collapsed": true
   },
   "outputs": [],
   "source": [
    "### Preprocess the data here. Preprocessing steps could include normalization, converting to grayscale, etc.\n",
    "### Feel free to use as many code cells as needed.\n",
    "import cv2\n",
    "import sys\n",
    "\n",
    "width, height = 32, 32\n",
    "\n",
    "def translate(img):\n",
    "    # Random Translation of image\n",
    "    x_offset = np.random.uniform(-3, 3)\n",
    "    y_offset = np.random.uniform(-3, 3)\n",
    "    M = np.float32([[1,0,x_offset],\\\n",
    "                [0,1,y_offset]])\n",
    "    return cv2.warpAffine(img,M,(32,32))\n",
    "\n",
    "def affirmation(img):\n",
    "    # random Affimation of image\n",
    "    num = np.random.uniform(-2,2)\n",
    "    pts1 = np.float32([[18,18 ],[12,18],[18,12]])\n",
    "    pts2 = np.float32([[18-num,18+num],[12,18],[18+num,12+num]])\n",
    "\n",
    "    M = cv2.getAffineTransform(pts1,pts2)\n",
    "\n",
    "    return cv2.warpAffine(img,M,(width,height))\n",
    "\n",
    "def augment(count):\n",
    "    # this will manipulate the images to create more data\n",
    "    # work with lists as this is much faster than using numpy arrays\n",
    "    X_new = []\n",
    "    y_new = []\n",
    "    iters = 0\n",
    "    for i in range (0, n_train):\n",
    "        sys.stdout.write('\\rAugmenting image {} of {}.  iters: {}'.format(i, n_train, iters))\n",
    "        \n",
    "        # append the original image to the new data set\n",
    "        img = X_train[i]\n",
    "        X_new.append(img)\n",
    "        y = y_train[i]\n",
    "        y_new.append(y)\n",
    "        \n",
    "        # add more data for low count classifiers\n",
    "        if count.get(y_train[i]) <= 600:\n",
    "            if count.get(y_train[i]) <= 260:\n",
    "                iters = 4\n",
    "            elif count.get(y_train[i]) <= 350:\n",
    "                iters = 3\n",
    "            elif count.get(y_train[i]) <= 450:\n",
    "                iters = 2\n",
    "            else :\n",
    "                iters = 1\n",
    "                \n",
    "            for num in (0, iters):\n",
    "                tran = translate(img) # change image position\n",
    "                # add all the new images to the library\n",
    "                X_new.append(tran)\n",
    "                y_new.append(y)\n",
    "                \n",
    "                aff = affirmation(img) # affinetransform image\n",
    "                X_new.append(aff)\n",
    "                y_new.append(y)\n",
    "\n",
    "    print()\n",
    "    # return the numpy array of the lists\n",
    "    return np.array(X_new).astype(np.uint8), np.array(y_new).astype(np.uint8)"
   ]
  },
  {
   "cell_type": "code",
   "execution_count": 5,
   "metadata": {
    "collapsed": false
   },
   "outputs": [
    {
     "name": "stdout",
     "output_type": "stream",
     "text": [
      "Augmenting image 34798 of 34799.  iters: 1\n",
      "Pickling large_data.pickle.\n"
     ]
    }
   ],
   "source": [
    "import collections\n",
    "import os\n",
    "# count how many occurences of each sign in the training data and display in a histogram\n",
    "count = collections.Counter(y_train)\n",
    "\n",
    "# open stored pickle data of the larger data set or create the data and then pickle it for later use\n",
    "def pickle_data(filename, data):\n",
    "    print('Pickling %s.' % set_filename)\n",
    "    try:\n",
    "        with open(set_filename, 'wb') as f:\n",
    "            pickle.dump(data, f, pickle.HIGHEST_PROTOCOL)\n",
    "    except Exception as e:\n",
    "        print('Unable to save data to', set_filename, ':', e)\n",
    "\n",
    "\n",
    "set_filename = \"large_data.pickle\"\n",
    "if os.path.exists(set_filename):\n",
    "    # You may override by setting force=True.\n",
    "    print('%s already present - Skipping pickling.' % set_filename)\n",
    "else:\n",
    "    # create the data and then pickle it\n",
    "    features, labels =  augment(count)\n",
    "    # pickle data files to save for later\n",
    "    pickle_data(set_filename, (features, labels))\n",
    "\n",
    "# open the pickled files\n",
    "with open(set_filename, mode='rb') as f:\n",
    "    X_train, y_train = pickle.load(f)"
   ]
  },
  {
   "cell_type": "markdown",
   "metadata": {},
   "source": [
    "Get the new data size count"
   ]
  },
  {
   "cell_type": "code",
   "execution_count": 6,
   "metadata": {
    "collapsed": false
   },
   "outputs": [
    {
     "name": "stdout",
     "output_type": "stream",
     "text": [
      "Number of training examples = 65755\n"
     ]
    }
   ],
   "source": [
    "n_train = np.shape(X_train)[0]\n",
    "print(\"Number of training examples =\", n_train)"
   ]
  },
  {
   "cell_type": "markdown",
   "metadata": {},
   "source": [
    "#### Normalise image brightness\n",
    "Normalise each image and convert to YUV format. \n",
    "Store the images into a pickle for future use."
   ]
  },
  {
   "cell_type": "code",
   "execution_count": 7,
   "metadata": {
    "collapsed": true
   },
   "outputs": [],
   "source": [
    "# Normalise the brightness of each mage to minimise noise. Output in YUV format\n",
    "def normalise_image(img):\n",
    "    img_yuv = cv2.cvtColor(img, cv2.COLOR_BGR2YUV)\n",
    "    # create a CLAHE object\n",
    "    clip = cv2.createCLAHE(clipLimit=1.0, tileGridSize=(8,8))\n",
    "    # equalize the histogram of the Y channel\n",
    "    img_yuv[:,:,0] = clip.apply(img_yuv[:,:,0])\n",
    "\n",
    "    return img_yuv"
   ]
  },
  {
   "cell_type": "code",
   "execution_count": 8,
   "metadata": {
    "collapsed": false
   },
   "outputs": [
    {
     "name": "stdout",
     "output_type": "stream",
     "text": [
      "now pickling\n",
      "Pickling X_train_YUV_data.pickle.\n",
      "Pickling X_valid_YUV_data.pickle.\n"
     ]
    }
   ],
   "source": [
    "# Create normalised images for the training data\n",
    "set_filename = \"X_train_YUV_data.pickle\"\n",
    "if os.path.exists(set_filename):\n",
    "    # You may override by setting force=True.\n",
    "    print('Loading {}'.format(set_filename))\n",
    "    # open the pickled files\n",
    "    with open(set_filename, mode='rb') as f:\n",
    "        X_train = pickle.load(f)\n",
    "else:\n",
    "    # create the data and then pickle it\n",
    "    for i in range(0, n_train):\n",
    "        X_train[i] = normalise_image(X_train[i])\n",
    "        \n",
    "    print('now pickling')\n",
    "    # pickle data files to save for later\n",
    "    pickle_data(set_filename, X_train)\n",
    "    \n",
    "# Create normalised images for the validation data\n",
    "set_filename = \"X_valid_YUV_data.pickle\"\n",
    "if os.path.exists(set_filename):\n",
    "    # You may override by setting force=True.\n",
    "    print('Loading {}'.format(set_filename))\n",
    "    # open the pickled files\n",
    "    with open(set_filename, mode='rb') as f:\n",
    "        X_valid = pickle.load(f)\n",
    "else:\n",
    "    # create the data and then pickle it\n",
    "    for i in range(0, n_valid):\n",
    "        X_valid[i] = normalise_image(X_valid[i])\n",
    "        \n",
    "    # pickle data files to save for later\n",
    "    pickle_data(set_filename, X_valid)"
   ]
  },
  {
   "cell_type": "markdown",
   "metadata": {},
   "source": [
    "#### Visulise the transformed data\n",
    "Display the new data in a histograme and random images in their new YUV format."
   ]
  },
  {
   "cell_type": "code",
   "execution_count": null,
   "metadata": {
    "collapsed": false
   },
   "outputs": [],
   "source": [
    "# count how many occurences of each sign in the training data and display in a histogram\n",
    "count = collections.Counter(y_train)\n",
    "plt.figure('Histogram After')\n",
    "plt.bar(range(len(count)), count.values(), align='center')\n",
    "plt.xticks(range(len(count)), count.keys(), rotation=90)\n",
    "\n",
    "# show the least represented sign\n",
    "print(count.values())\n",
    "\n",
    "plt.figure('signs After')\n",
    "# display an example image of 20 random sign types\n",
    "for i in range(1,21):\n",
    "    num = np.random.randint(0, n_train)\n",
    "    plt.subplot(4, 5, i)\n",
    "    plt.title(\"Class {}\".format(y_train[num]))\n",
    "    plt.axis('off')\n",
    "    img = X_train[num]\n",
    "    plt.imshow(img)"
   ]
  },
  {
   "cell_type": "markdown",
   "metadata": {},
   "source": [
    "### Model Architecture\n",
    "Convolutional layer\n",
    "Layer 1 \n",
    "\n",
    "Convolution -> 32x32x3 -> VALID, stride = 1, filter = 64, kernel = 5x5 => 28x28x64\n",
    "Batch norm\n",
    "Relu\n",
    "Pool => 28x28x64, k_strides = 2, stride = 2, VALID => 14x14x64\n",
    "dropout: 0.6\n",
    "\n",
    "Layer 2 \n",
    "\n",
    "Convolution -> 14x14x64 -> VALID, stride = 1, filter = 64, kernel = 5x5 => 10x10x64\n",
    "Batch norm\n",
    "Relu\n",
    "Pool => 10x10x64, k_strides = 2, stride = 2, VALID => 5x5x64\n",
    "dropout: 0.6\n",
    "\n",
    "Flatten\n",
    "\n",
    "Layer 3 \n",
    "\"Fully connected\"\n",
    "input => 5*5*64=1600, node count = 1200\n",
    "relu\n",
    "dropout: 0.6\n",
    "\n",
    "Layer 4\n",
    "\n",
    "input => 1200, node count = 600\n",
    "relu\n",
    "dropout: 0.6\n",
    "\n",
    "Layer 5\n",
    "\n",
    "Input =>600, node count = 43\n"
   ]
  },
  {
   "cell_type": "code",
   "execution_count": null,
   "metadata": {
    "collapsed": true
   },
   "outputs": [],
   "source": [
    "### Define your architecture here.\n",
    "### Feel free to use as many code cells as needed.\n",
    "\n",
    "import tensorflow as tf\n",
    "from tensorflow.contrib.layers import flatten\n",
    "\n",
    "def model(x, keep_prob):    \n",
    "    # Arguments used for tf.truncated_normal, randomly defines variables for the weights and biases for each layer\n",
    "    mu = 0\n",
    "    sigma = 0.1\n",
    "    kernal_size = 5\n",
    "    filter_one = 64\n",
    "    filter_two = 64\n",
    "    \n",
    "    k_stride = 2\n",
    "    \n",
    "    # Layer 1: Convolutional. Input = 32x32x3. Output = 28x28x32.\n",
    "    w1 = tf.Variable(tf.truncated_normal(shape=( kernal_size, kernal_size,image_channels,filter_one), mean=mu, stddev=sigma))\n",
    "    b1 = tf.Variable(tf.zeros(filter_one))\n",
    "    c1 = tf.nn.conv2d(x, w1, strides=[1,1,1,1], padding= 'VALID')\n",
    "    c1 = tf.nn.bias_add(c1, b1)\n",
    "    \n",
    "    # Layer 1 Batch normalise\n",
    "    batch_mean1, batch_var1 = tf.nn.moments(c1,[0,1,2])\n",
    "    scale1 = tf.Variable(tf.ones([filter_one]))\n",
    "    beta1 = tf.Variable(tf.zeros([filter_one]))\n",
    "    c1 = tf.nn.batch_normalization(c1,batch_mean1,batch_var1,beta1,scale1,1e-6)\n",
    "    \n",
    "    # Layer 1 Activation.\n",
    "    c1 = tf.nn.relu(c1, name='c1_relu')\n",
    "    # Pooling. Input = 28x28x32. Output = 14x14x64.\n",
    "    c1 = tf.nn.max_pool(c1, ksize=[1,k_stride,k_stride,1], strides=[1,2,2,1], padding='VALID')\n",
    "    # dropout data to prevent overfitting\n",
    "    c1 = tf.nn.dropout(c1, keep_prob, name='c1_drop')\n",
    "\n",
    "    # Layer 2: Convolutional. Input = 14x14x Output = 10x10x64.\n",
    "    w2 = tf.Variable(tf.truncated_normal(shape=(kernal_size, kernal_size,filter_one,filter_two), mean=mu, stddev=sigma))\n",
    "    b2 = tf.Variable(tf.zeros(filter_two))\n",
    "    c2 = tf.nn.conv2d(c1, w2, strides=[1,1,1,1], padding='VALID')\n",
    "    c2 = tf.nn.bias_add(c2, b2)\n",
    "    \n",
    "    # Layer 2 Batch normalise\n",
    "    batch_mean2, batch_var2 = tf.nn.moments(c2,[0,1,2])\n",
    "    scale2 = tf.Variable(tf.ones([filter_two]))\n",
    "    beta2 = tf.Variable(tf.zeros([filter_two]))\n",
    "    c2 = tf.nn.batch_normalization(c2,batch_mean2,batch_var2,beta2,scale2,1e-6)\n",
    "    \n",
    "    # Layer 2 Activation.\n",
    "    c2 = tf.nn.relu(c2, name='c1_relu')\n",
    "    # Pooling. Input = 10x10x64. Output = 5x5x64.\n",
    "    c2 = tf.nn.max_pool(c2, ksize=[1,k_stride,k_stride,1], strides=[1,2,2,1], padding='VALID')\n",
    "    # dropout data to prevent overfitting\n",
    "    c2 = tf.nn.dropout(c2, keep_prob, name='c1_drop')\n",
    "\n",
    "    # Flatten for the final layer. Input = 5x5x64. Output = 1600.\n",
    "    input_fc= flatten(c2)\n",
    "    # Get the size of the connecting layer features\n",
    "    input_size = int(np.shape(input_fc)[1]) # 1600\n",
    "    node_size = input_size*3//4 # 1200\n",
    "    \n",
    "    # Layer 3: Fully Connected. Input = 1600. Output = 1200.\n",
    "    wfc = tf.Variable(tf.truncated_normal(shape=(input_size,node_size), mean=mu, stddev=sigma))\n",
    "    bfc = tf.Variable(tf.zeros(node_size))\n",
    "    fc1 = tf.add(tf.matmul(input_fc, wfc), bfc)\n",
    "    #Activation.\n",
    "    fc1 = tf.nn.relu(fc1)\n",
    "    fc1 = tf.nn.dropout(fc1, keep_prob)\n",
    "\n",
    "    input_size = node_size  # 1200\n",
    "    node_size = input_size//2  # 600\n",
    "    # Layer 4: Fully Connected. Input = 1200. Output = 600.\n",
    "    wf2 = tf.Variable(tf.truncated_normal(shape=(input_size,node_size), mean=mu, stddev=sigma))\n",
    "    bf2 = tf.Variable(tf.zeros(node_size))\n",
    "    fc2 = tf.add(tf.matmul(fc1, wf2), bf2)\n",
    "    \n",
    "    # Activation.\n",
    "    fc2 = tf.nn.relu(fc2)\n",
    "    fc2 = tf.nn.dropout(fc2, keep_prob)\n",
    "\n",
    "    input_size = node_size  # 600\n",
    "    # Layer 5: Fully Connected. Input = 200. Output = 43.\n",
    "    wf3 = tf.Variable(tf.truncated_normal(shape=(input_size,n_classes), mean=mu, stddev=sigma))\n",
    "    bf3 = tf.Variable(tf.zeros(n_classes))\n",
    "    logits = tf.add(tf.matmul(fc2, wf3), bf3)\n",
    "    \n",
    "    return logits"
   ]
  },
  {
   "cell_type": "markdown",
   "metadata": {},
   "source": [
    "### Train, Validate and Test the Model"
   ]
  },
  {
   "cell_type": "markdown",
   "metadata": {},
   "source": [
    "A validation set can be used to assess how well the model is performing. A low accuracy on the training and validation\n",
    "sets imply underfitting. A high accuracy on the training set but low accuracy on the validation set implies overfitting."
   ]
  },
  {
   "cell_type": "code",
   "execution_count": null,
   "metadata": {
    "collapsed": false
   },
   "outputs": [],
   "source": [
    "### Train your model here.\n",
    "### Calculate and report the accuracy on the training and validation set.\n",
    "### Once a final model architecture is selected, \n",
    "### the accuracy on the test set should be calculated and reported as well.\n",
    "### Feel free to use as many code cells as needed.\n",
    "x = tf.placeholder(tf.float32, (None, 32, 32, 3))\n",
    "y = tf.placeholder(tf.int32, (None))\n",
    "keep_prob = tf.placeholder(tf.float32)\n",
    "one_hot_y = tf.one_hot(y, n_classes)\n",
    "lr = tf.placeholder(tf.float32)\n",
    "\n",
    "# run the model\n",
    "logits = model(x, keep_prob)\n",
    "\n",
    "# get the final output of the model and find the loss \n",
    "cross_entropy = tf.nn.softmax_cross_entropy_with_logits(logits=logits, labels=one_hot_y)\n",
    "loss_operation = tf.reduce_mean(cross_entropy)\n",
    "    \n",
    "# Update the model to predict better results based of the training loss\n",
    "optimizer = tf.train.AdamOptimizer(learning_rate = lr)\n",
    "\n",
    "# train the model to minimise the loss\n",
    "training_operation = optimizer.minimize(loss_operation)"
   ]
  },
  {
   "cell_type": "code",
   "execution_count": null,
   "metadata": {
    "collapsed": true
   },
   "outputs": [],
   "source": [
    "EPOCHS = 75\n",
    "BATCH_SIZE = 128"
   ]
  },
  {
   "cell_type": "markdown",
   "metadata": {},
   "source": [
    "#### Check the validation of the model"
   ]
  },
  {
   "cell_type": "code",
   "execution_count": null,
   "metadata": {
    "collapsed": true
   },
   "outputs": [],
   "source": [
    "correct_prediction = tf.equal(tf.argmax(logits, 1), tf.argmax(one_hot_y, 1))\n",
    "accuracy_operation = tf.reduce_mean(tf.cast(correct_prediction, tf.float32))\n",
    "saver = tf.train.Saver()\n",
    "\n",
    "def evaluate(X_data, y_data):\n",
    "    num_examples = len(X_data)\n",
    "    total_accuracy = 0\n",
    "    sess = tf.get_default_session()\n",
    "    for offset in range(0, num_examples, BATCH_SIZE):\n",
    "        batch_x, batch_y = X_data[offset:offset+BATCH_SIZE], y_data[offset:offset+BATCH_SIZE]\n",
    "        accuracy = sess.run(accuracy_operation, feed_dict={x: batch_x, y: batch_y, keep_prob: 1})\n",
    "        total_accuracy += (accuracy * len(batch_x))\n",
    "    return (total_accuracy / num_examples)"
   ]
  },
  {
   "cell_type": "markdown",
   "metadata": {},
   "source": [
    "#### Train the model"
   ]
  },
  {
   "cell_type": "code",
   "execution_count": null,
   "metadata": {
    "collapsed": false,
    "scrolled": true
   },
   "outputs": [],
   "source": [
    "from sklearn.utils import shuffle\n",
    "\n",
    "with tf.Session() as sess:\n",
    "    sess.run(tf.global_variables_initializer())\n",
    "    num_examples = len(X_train)\n",
    "    \n",
    "    print(\"Training...\")\n",
    "    print()\n",
    "    for i in range(EPOCHS):\n",
    "        X_train, y_train = shuffle(X_train, y_train)\n",
    "        for offset in range(0, num_examples, BATCH_SIZE):\n",
    "            num = np.random.uniform(-5, -2) # use a logorithmic learning rate to prevent local minima\n",
    "            rate = 10**num\n",
    "            \n",
    "            end = offset + BATCH_SIZE\n",
    "            batch_x, batch_y = X_train[offset:end], y_train[offset:end]\n",
    "            loss = sess.run([loss_operation, training_operation], feed_dict={x: batch_x, y: batch_y, keep_prob: 0.6, lr: rate})\n",
    "            \n",
    "        validation_accuracy = evaluate(X_valid, y_valid)\n",
    "        sys.stdout.write(\"\\rEPOCH {}. Training loss = {},Validation Accuracy = {:.3f} \".format(i+1, loss[0], validation_accuracy))\n",
    "    \n",
    "    saver.save(sess, './signmodel')\n",
    "    print(\"Model saved\")"
   ]
  },
  {
   "cell_type": "code",
   "execution_count": null,
   "metadata": {
    "collapsed": false
   },
   "outputs": [],
   "source": [
    "with tf.Session() as sess:\n",
    "    saver.restore(sess, tf.train.latest_checkpoint('.'))\n",
    "    \n",
    "    # normalise the test images\n",
    "    # create the data and then pickle it\n",
    "    for i in range(0, n_test):\n",
    "        X_test[i] = normalise_image(X_test[i])\n",
    "\n",
    "    test_accuracy = evaluate(X_test, y_test)\n",
    "    print(\"Test Accuracy = {:.3f}\".format(test_accuracy))"
   ]
  },
  {
   "cell_type": "markdown",
   "metadata": {},
   "source": [
    "---\n",
    "\n",
    "## Step 3: Test a Model on New Images\n",
    "\n",
    "To give yourself more insight into how your model is working, download at least five pictures of German traffic signs from the web and use your model to predict the traffic sign type.\n",
    "\n",
    "You may find `signnames.csv` useful as it contains mappings from the class id (integer) to the actual sign name."
   ]
  },
  {
   "cell_type": "markdown",
   "metadata": {},
   "source": [
    "### Load and Output the Images"
   ]
  },
  {
   "cell_type": "code",
   "execution_count": null,
   "metadata": {
    "collapsed": false
   },
   "outputs": [],
   "source": [
    "### Load the images and plot them here.\n",
    "### Feel free to use as many code cells as needed.\n",
    "\n",
    "X_img = []\n",
    "y_class = []\n",
    "\n",
    "# load in images with opencv\n",
    "# images are loaded in as BGR and need to be in RGB\n",
    "b,g,r = cv2.split(cv2.imread('.\\Signs\\S1_27.png',1))       # get b,g,r\n",
    "img_27 = cv2.merge([r,g,b])     # switch it to rgb\n",
    "b,g,r = cv2.split(cv2.imread('.\\Signs\\S2_2.png',1))\n",
    "img_2 = cv2.merge([r,g,b])\n",
    "b,g,r = cv2.split(cv2.imread('.\\Signs\\S3_18.png',1))\n",
    "img_18 = cv2.merge([r,g,b])\n",
    "b,g,r = cv2.split(cv2.imread('.\\Signs\\S4_40.png',1))\n",
    "img_14 = cv2.merge([r,g,b])\n",
    "b,g,r = cv2.split(cv2.imread('.\\Signs\\S5_17.jpg',1))\n",
    "img_17 = cv2.merge([r,g,b])\n",
    "\n",
    "plt.figure('new signs')\n",
    "\n",
    "# Display the new images\n",
    "plt.subplot(1, 5, 1)\n",
    "plt.title(\"Class 27\")\n",
    "plt.axis('off')\n",
    "plt.imshow(img_27)\n",
    "\n",
    "plt.subplot(1, 5, 2)\n",
    "plt.title(\"Class 2\")\n",
    "plt.axis('off')\n",
    "plt.imshow(img_2)\n",
    "\n",
    "plt.subplot(1, 5, 3)\n",
    "plt.title(\"Class 18\")\n",
    "plt.axis('off')\n",
    "plt.imshow(img_18)\n",
    "\n",
    "plt.subplot(1, 5, 4)\n",
    "plt.title(\"Class 40\")\n",
    "plt.axis('off')\n",
    "plt.imshow(img_14)\n",
    "\n",
    "plt.subplot(1, 5, 5)\n",
    "plt.title(\"Class 17\")\n",
    "plt.axis('off')\n",
    "plt.imshow(img_17)\n",
    "\n",
    "# mormalise image to YUV scale and add to list\n",
    "X_img.append(normalise_image(img_27))\n",
    "y_class.append(27)\n",
    "X_img.append(normalise_image(img_2))\n",
    "y_class.append(2)\n",
    "X_img.append(normalise_image(img_18))\n",
    "y_class.append(18)\n",
    "X_img.append(normalise_image(img_14))\n",
    "y_class.append(40)\n",
    "X_img.append(normalise_image(img_17))\n",
    "y_class.append(17)\n",
    "             \n",
    "X_new = np.array(X_img).astype(np.uint8)\n",
    "y_new = np.array(y_class).astype(np.uint8)"
   ]
  },
  {
   "cell_type": "markdown",
   "metadata": {},
   "source": [
    "### Predict the Sign Type for Each Image"
   ]
  },
  {
   "cell_type": "code",
   "execution_count": null,
   "metadata": {
    "collapsed": false
   },
   "outputs": [],
   "source": [
    "### Run the predictions here and use the model to output the prediction for each image.\n",
    "### Make sure to pre-process the images with the same pre-processing pipeline used earlier.\n",
    "### Feel free to use as many code cells as needed.\n",
    "pred = [] #np.empty(shape=(1, 43), dtype=float)\n",
    "\n",
    "with tf.Session() as sess:\n",
    "    # load last session()\n",
    "    saver.restore(sess, tf.train.latest_checkpoint('.'))\n",
    "    for i in range(0,5):\n",
    "        logit = sess.run(logits, feed_dict={x: [X_new[i]], keep_prob: 1})\n",
    "        # softmax to find the most likley sign type\n",
    "        # weight y to distinguish sign type\n",
    "        # return the percentage of each prediction\n",
    "        y = (tf.nn.softmax(logit)).eval()\n",
    "        pred.append(y)\n",
    "    results = np.array(pred).astype(np.float32)\n"
   ]
  },
  {
   "cell_type": "markdown",
   "metadata": {},
   "source": [
    "### Analyze Performance"
   ]
  },
  {
   "cell_type": "code",
   "execution_count": null,
   "metadata": {
    "collapsed": false
   },
   "outputs": [],
   "source": [
    "### Calculate the accuracy for these 5 new images. \n",
    "### For example, if the model predicted 1 out of 5 signs correctly, it's 20% accurate on these new images.\n",
    "total_accuracy = 0\n",
    "\n",
    "with tf.Session() as sess:\n",
    "    values, indices = sess.run(tf.nn.top_k(tf.constant(results), k=5))\n",
    "    for i in range(0,5):\n",
    "        element = indices[i][0][0]\n",
    "        if(element == y_new[i]):\n",
    "            # image was correctly classified\n",
    "            total_accuracy += 100\n",
    "            \n",
    "    print('Total accuracy is {:.1f}%'.format(total_accuracy/5))"
   ]
  },
  {
   "cell_type": "markdown",
   "metadata": {},
   "source": [
    "### Output Top 5 Softmax Probabilities For Each Image Found on the Web"
   ]
  },
  {
   "cell_type": "markdown",
   "metadata": {},
   "source": [
    "For each of the new images, print out the model's softmax probabilities to show the **certainty** of the model's predictions (limit the output to the top 5 probabilities for each image). [`tf.nn.top_k`](https://www.tensorflow.org/versions/r0.12/api_docs/python/nn.html#top_k) could prove helpful here. \n",
    "\n",
    "The example below demonstrates how tf.nn.top_k can be used to find the top k predictions for each image.\n",
    "\n",
    "`tf.nn.top_k` will return the values and indices (class ids) of the top k predictions. So if k=3, for each sign, it'll return the 3 largest probabilities (out of a possible 43) and the correspoding class ids.\n",
    "\n",
    "Take this numpy array as an example. The values in the array represent predictions. The array contains softmax probabilities for five candidate images with six possible classes. `tk.nn.top_k` is used to choose the three classes with the highest probability:\n",
    "\n",
    "```\n",
    "# (5, 6) array\n",
    "a = np.array([[ 0.24879643,  0.07032244,  0.12641572,  0.34763842,  0.07893497,\n",
    "         0.12789202],\n",
    "       [ 0.28086119,  0.27569815,  0.08594638,  0.0178669 ,  0.18063401,\n",
    "         0.15899337],\n",
    "       [ 0.26076848,  0.23664738,  0.08020603,  0.07001922,  0.1134371 ,\n",
    "         0.23892179],\n",
    "       [ 0.11943333,  0.29198961,  0.02605103,  0.26234032,  0.1351348 ,\n",
    "         0.16505091],\n",
    "       [ 0.09561176,  0.34396535,  0.0643941 ,  0.16240774,  0.24206137,\n",
    "         0.09155967]])\n",
    "```\n",
    "\n",
    "Running it through `sess.run(tf.nn.top_k(tf.constant(a), k=3))` produces:\n",
    "\n",
    "```\n",
    "TopKV2(values=array([[ 0.34763842,  0.24879643,  0.12789202],\n",
    "       [ 0.28086119,  0.27569815,  0.18063401],\n",
    "       [ 0.26076848,  0.23892179,  0.23664738],\n",
    "       [ 0.29198961,  0.26234032,  0.16505091],\n",
    "       [ 0.34396535,  0.24206137,  0.16240774]]), indices=array([[3, 0, 5],\n",
    "       [0, 1, 4],\n",
    "       [0, 5, 1],\n",
    "       [1, 3, 5],\n",
    "       [1, 4, 3]], dtype=int32))\n",
    "```\n",
    "\n",
    "Looking just at the first row we get `[ 0.34763842,  0.24879643,  0.12789202]`, you can confirm these are the 3 largest probabilities in `a`. You'll also notice `[3, 0, 5]` are the corresponding indices."
   ]
  },
  {
   "cell_type": "code",
   "execution_count": null,
   "metadata": {
    "collapsed": false
   },
   "outputs": [],
   "source": [
    "### Print out the top five softmax probabilities for the predictions on the German traffic sign images found on the web. \n",
    "### Feel free to use as many code cells as needed.\n",
    "with tf.Session() as sess:\n",
    "    values, indices = sess.run(tf.nn.top_k(tf.constant(results), k=5))\n",
    "    for i in range(0,5):\n",
    "        print('Top 5 predictions for image {0}.\\nCorrect class is {1}\\n{2}%\\n{3}\\n'.format( \\\n",
    "            i, y_new[i], values[i]*100, indices[i]))"
   ]
  },
  {
   "cell_type": "markdown",
   "metadata": {},
   "source": [
    "---\n",
    "\n",
    "## Step 4: Visualize the Neural Network's State with Test Images\n",
    "\n",
    " This Section is not required to complete but acts as an additional excersise for understaning the output of a neural network's weights. While neural networks can be a great learning device they are often referred to as a black box. We can understand what the weights of a neural network look like better by plotting their feature maps. After successfully training your neural network you can see what it's feature maps look like by plotting the output of the network's weight layers in response to a test stimuli image. From these plotted feature maps, it's possible to see what characteristics of an image the network finds interesting. For a sign, maybe the inner network feature maps react with high activation to the sign's boundary outline or to the contrast in the sign's painted symbol.\n",
    "\n",
    " Provided for you below is the function code that allows you to get the visualization output of any tensorflow weight layer you want. The inputs to the function should be a stimuli image, one used during training or a new one you provided, and then the tensorflow variable name that represents the layer's state during the training process, for instance if you wanted to see what the [LeNet lab's](https://classroom.udacity.com/nanodegrees/nd013/parts/fbf77062-5703-404e-b60c-95b78b2f3f9e/modules/6df7ae49-c61c-4bb2-a23e-6527e69209ec/lessons/601ae704-1035-4287-8b11-e2c2716217ad/concepts/d4aca031-508f-4e0b-b493-e7b706120f81) feature maps looked like for it's second convolutional layer you could enter conv2 as the tf_activation variable.\n",
    "\n",
    "For an example of what feature map outputs look like, check out NVIDIA's results in their paper [End-to-End Deep Learning for Self-Driving Cars](https://devblogs.nvidia.com/parallelforall/deep-learning-self-driving-cars/) in the section Visualization of internal CNN State. NVIDIA was able to show that their network's inner weights had high activations to road boundary lines by comparing feature maps from an image with a clear path to one without. Try experimenting with a similar test to show that your trained network's weights are looking for interesting features, whether it's looking at differences in feature maps from images with or without a sign, or even what feature maps look like in a trained network vs a completely untrained one on the same sign image.\n",
    "\n",
    "<figure>\n",
    " <img src=\"visualize_cnn.png\" width=\"380\" alt=\"Combined Image\" />\n",
    " <figcaption>\n",
    " <p></p> \n",
    " <p style=\"text-align: center;\"> Your output should look something like this (above)</p> \n",
    " </figcaption>\n",
    "</figure>\n",
    " <p></p> \n"
   ]
  },
  {
   "cell_type": "code",
   "execution_count": null,
   "metadata": {
    "collapsed": false
   },
   "outputs": [],
   "source": [
    "### Visualize your network's feature maps here.\n",
    "### Feel free to use as many code cells as needed.\n",
    "\n",
    "# image_input: the test image being fed into the network to produce the feature maps\n",
    "# tf_activation: should be a tf variable name used during your training procedure that represents the calculated state of a specific weight layer\n",
    "# activation_min/max: can be used to view the activation contrast in more detail, by default matplot sets min and max to the actual min and max values of the output\n",
    "# plt_num: used to plot out multiple different weight feature map sets on the same block, just extend the plt number for each new feature map entry\n",
    "\n",
    "def outputFeatureMap(image_input, tf_activation, activation_min=-1, activation_max=-1 ,plt_num=1):\n",
    "    # Here make sure to preprocess your image_input in a way your network expects\n",
    "    # with size, normalization, ect if needed\n",
    "    # image_input =\n",
    "    # Note: x should be the same name as your network's tensorflow data placeholder variable\n",
    "    # If you get an error tf_activation is not defined it maybe having trouble accessing the variable from inside a function\n",
    "    activation = tf_activation.eval(session=sess,feed_dict={x : image_input})\n",
    "    featuremaps = activation.shape[3]\n",
    "    plt.figure(plt_num, figsize=(15,15))\n",
    "    for featuremap in range(featuremaps):\n",
    "        plt.subplot(6,8, featuremap+1) # sets the number of feature maps to show on each row and column\n",
    "        plt.title('FeatureMap ' + str(featuremap)) # displays the feature map number\n",
    "        if activation_min != -1 & activation_max != -1:\n",
    "            plt.imshow(activation[0,:,:, featuremap], interpolation=\"nearest\", vmin =activation_min, vmax=activation_max, cmap=\"gray\")\n",
    "        elif activation_max != -1:\n",
    "            plt.imshow(activation[0,:,:, featuremap], interpolation=\"nearest\", vmax=activation_max, cmap=\"gray\")\n",
    "        elif activation_min !=-1:\n",
    "            plt.imshow(activation[0,:,:, featuremap], interpolation=\"nearest\", vmin=activation_min, cmap=\"gray\")\n",
    "        else:\n",
    "            plt.imshow(activation[0,:,:, featuremap], interpolation=\"nearest\", cmap=\"gray\")\n",
    " \n",
    "img_27 = cv2.imread('.\\Signs\\S1_27.png',1)\n",
    "img_27 = (normalise_image(img_27))\n",
    "\n",
    "#with tf.Session() as sess:\n",
    "#    outputFeatureMap(img_27, c1_relu)"
   ]
  },
  {
   "cell_type": "markdown",
   "metadata": {},
   "source": [
    "### Question 9\n",
    "\n",
    "Discuss how you used the visual output of your trained network's feature maps to show that it had learned to look for interesting characteristics in traffic sign images\n"
   ]
  },
  {
   "cell_type": "markdown",
   "metadata": {},
   "source": [
    "**Answer:**"
   ]
  },
  {
   "cell_type": "markdown",
   "metadata": {},
   "source": [
    "> **Note**: Once you have completed all of the code implementations and successfully answered each question above, you may finalize your work by exporting the iPython Notebook as an HTML document. You can do this by using the menu above and navigating to  \\n\",\n",
    "    \"**File -> Download as -> HTML (.html)**. Include the finished document along with this notebook as your submission."
   ]
  },
  {
   "cell_type": "markdown",
   "metadata": {},
   "source": [
    "### Project Writeup\n",
    "\n",
    "Once you have completed the code implementation, document your results in a project writeup using this [template](https://github.com/udacity/CarND-Traffic-Sign-Classifier-Project/blob/master/writeup_template.md) as a guide. The writeup can be in a markdown or pdf file. "
   ]
  }
 ],
 "metadata": {
  "anaconda-cloud": {},
  "kernelspec": {
   "display_name": "Python 3",
   "language": "python",
   "name": "python3"
  },
  "language_info": {
   "codemirror_mode": {
    "name": "ipython",
    "version": 3
   },
   "file_extension": ".py",
   "mimetype": "text/x-python",
   "name": "python",
   "nbconvert_exporter": "python",
   "pygments_lexer": "ipython3",
   "version": "3.5.2"
  }
 },
 "nbformat": 4,
 "nbformat_minor": 1
}
